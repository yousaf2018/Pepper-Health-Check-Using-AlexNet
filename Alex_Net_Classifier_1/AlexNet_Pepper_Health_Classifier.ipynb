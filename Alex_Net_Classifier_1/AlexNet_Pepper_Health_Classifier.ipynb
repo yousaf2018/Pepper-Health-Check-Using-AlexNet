{
 "cells": [
  {
   "cell_type": "code",
   "execution_count": 1,
   "metadata": {},
   "outputs": [],
   "source": [
    "import cv2\n",
    "import numpy as np\n",
    "import os\n",
    "from tensorflow.keras.models import Sequential\n",
    "from tensorflow.keras.layers import Dense, Dropout, Activation, Flatten\n",
    "from tensorflow.keras.layers import Conv2D, MaxPooling2D\n",
    "from tensorflow.keras.callbacks import TensorBoard\n",
    "from tensorflow.keras.utils import to_categorical\n",
    "import time\n",
    "import tensorflow as tf\n",
    "from tensorflow import keras"
   ]
  },
  {
   "cell_type": "code",
   "execution_count": 2,
   "metadata": {},
   "outputs": [],
   "source": [
    "Dataset = []\n",
    "class_Number = 0\n",
    "imageSize = 227\n",
    "path = \"C:\\\\Users\\\\Marhaba\\\\Desktop\\ML\\\\Pepper-Health-Check-Using-AlexNet\\\\dataset\""
   ]
  },
  {
   "cell_type": "code",
   "execution_count": 3,
   "metadata": {},
   "outputs": [
    {
     "name": "stdout",
     "output_type": "stream",
     "text": [
      "0\n",
      "1\n",
      "2474\n",
      "2\n",
      "[array([[[0.58643056, 0.57074429, 0.61388154],\n",
      "        [0.6546429 , 0.63895663, 0.68209388],\n",
      "        [0.52555553, 0.50986926, 0.55300651],\n",
      "        ...,\n",
      "        [0.72115837, 0.70547209, 0.72900151],\n",
      "        [0.71625057, 0.70056429, 0.7240937 ],\n",
      "        [0.66334295, 0.64765668, 0.67118609]],\n",
      "\n",
      "       [[0.57858362, 0.56289734, 0.6060346 ],\n",
      "        [0.63061229, 0.61492601, 0.65806327],\n",
      "        [0.66450411, 0.64881784, 0.69195509],\n",
      "        ...,\n",
      "        [0.70263195, 0.68694567, 0.71047508],\n",
      "        [0.6781729 , 0.66248663, 0.68601604],\n",
      "        [0.68309566, 0.66740939, 0.6909388 ]],\n",
      "\n",
      "       [[0.61344002, 0.59775375, 0.640891  ],\n",
      "        [0.5877343 , 0.57204803, 0.61518528],\n",
      "        [0.62370164, 0.60801536, 0.65115262],\n",
      "        ...,\n",
      "        [0.74822514, 0.73253886, 0.75606828],\n",
      "        [0.70636556, 0.69067928, 0.71420869],\n",
      "        [0.7184617 , 0.70277542, 0.72630483]],\n",
      "\n",
      "       ...,\n",
      "\n",
      "       [[0.22403041, 0.17305001, 0.18089315],\n",
      "        [0.23263552, 0.18165512, 0.18949826],\n",
      "        [0.23756318, 0.18658279, 0.19442593],\n",
      "        ...,\n",
      "        [0.7045238 , 0.67707282, 0.69668066],\n",
      "        [0.70969473, 0.68224375, 0.70185159],\n",
      "        [0.73742749, 0.70997651, 0.72958435]],\n",
      "\n",
      "       [[0.22720048, 0.17622009, 0.18406323],\n",
      "        [0.23665309, 0.1856727 , 0.19351583],\n",
      "        [0.24656831, 0.19558792, 0.20343106],\n",
      "        ...,\n",
      "        [0.71022717, 0.68277619, 0.70238404],\n",
      "        [0.69882216, 0.67137118, 0.69097902],\n",
      "        [0.73167672, 0.70422574, 0.72383358]],\n",
      "\n",
      "       [[0.20983111, 0.15885072, 0.16669385],\n",
      "        [0.22356779, 0.1725874 , 0.18043053],\n",
      "        [0.23847057, 0.18749018, 0.19533332],\n",
      "        ...,\n",
      "        [0.74336989, 0.71591891, 0.73552675],\n",
      "        [0.72574155, 0.69829057, 0.71789841],\n",
      "        [0.67039297, 0.64294199, 0.66254983]]]), 0]\n"
     ]
    }
   ],
   "source": [
    "#Loading data locally \n",
    "Dataset.clear()\n",
    "for folder in (os.listdir(path)):\n",
    "  fp = os.path.join(path,folder)\n",
    "  print(class_Number)\n",
    "  for eachImage in os.listdir(fp):\n",
    "    imagePath = os.path.join(fp,eachImage)\n",
    "    image = (cv2.imread(imagePath))/255\n",
    "    image = cv2.resize(image, (imageSize, imageSize))\n",
    "    Dataset.append([image,class_Number])\n",
    "  class_Number = class_Number + 1\n",
    "print(len(Dataset))\n",
    "print(len(Dataset[0]))\n",
    "print(Dataset[55])"
   ]
  },
  {
   "cell_type": "code",
   "execution_count": 4,
   "metadata": {},
   "outputs": [
    {
     "name": "stdout",
     "output_type": "stream",
     "text": [
      "494\n",
      "1980\n",
      "[0, 0, 1, 0, 0, 0, 1, 1, 0, 1, 0, 0, 1, 0, 0, 1, 1, 0, 1, 1, 0, 0, 0, 1, 0, 1, 1, 1, 1, 0, 0, 1, 0, 0, 1, 0, 1, 1, 0, 0, 0, 0, 0, 0, 0, 1, 0, 1, 1, 1, 0, 0, 1, 0, 0, 1, 0, 0, 1, 1, 0, 1, 0, 0, 0, 0, 0, 1, 0, 0, 0, 0, 1, 1, 1, 1, 0, 1, 1, 1, 1, 0, 1, 0, 0, 0, 0, 0, 1, 0, 0, 0, 0, 0, 0, 0, 0, 0, 1, 0, 1, 0, 1, 0, 0, 0, 0, 1, 1, 0, 0, 1, 0, 0, 1, 0, 0, 1, 0, 0, 0, 0, 0, 0, 1, 0, 0, 0, 1, 0, 0, 0, 0, 0, 0, 0, 0, 1, 0, 1, 1, 0, 0, 1, 1, 0, 0, 1, 1, 0, 0, 1, 0, 0, 0, 1, 0, 1, 1, 1, 0, 0, 0, 1, 0, 0, 0, 1, 1, 0, 0, 1, 0, 1, 1, 1, 0, 1, 0, 1, 0, 1, 0, 0, 1, 0, 0, 0, 0, 0, 0, 0, 0, 0, 1, 0, 1, 0, 0, 1, 0, 0, 0, 0, 1, 0, 0, 1, 1, 1, 0, 1, 1, 0, 0, 0, 1, 0, 1, 0, 0, 0, 0, 1, 0, 0, 1, 0, 0, 1, 0, 0, 0, 0, 0, 0, 0, 0, 0, 0, 1, 0, 0, 0, 0, 0, 1, 1, 1, 1, 0, 0, 0, 0, 1, 1, 0, 0, 1, 1, 0, 1, 0, 0, 1, 0, 0, 1, 1, 0, 1, 0, 0, 1, 0, 1, 0, 1, 0, 1, 0, 0, 1, 1, 1, 1, 1, 0, 1, 0, 0, 1, 0, 1, 1, 0, 0, 1, 1, 0, 1, 1, 0, 1, 1, 0, 0, 0, 0, 1, 1, 0, 0, 0, 1, 1, 1, 0, 0, 0, 0, 0, 0, 0, 0, 0, 1, 1, 0, 0, 0, 0, 0, 0, 1, 1, 0, 0, 1, 0, 0, 0, 1, 1, 1, 0, 1, 0, 0, 0, 1, 0, 0, 1, 1, 1, 1, 0, 0, 1, 0, 0, 0, 1, 1, 1, 0, 0, 0, 1, 1, 0, 0, 1, 1, 1, 1, 0, 0, 1, 0, 0, 1, 0, 0, 1, 1, 1, 0, 0, 1, 0, 0, 1, 0, 0, 0, 0, 0, 0, 0, 1, 0, 0, 1, 0, 1, 0, 0, 0, 0, 1, 0, 1, 1, 0, 0, 0, 1, 1, 1, 1, 1, 1, 1, 0, 1, 0, 1, 1, 1, 1, 0, 1, 1, 1, 0, 0, 0, 0, 0, 1, 0, 0, 1, 1, 0, 1, 0, 1, 1, 1, 0, 1, 1, 0, 0, 1, 0, 1, 0, 1, 1, 1, 0, 0, 0, 1, 1, 1, 0, 1, 0, 0, 0, 1, 0, 0, 0, 1, 0, 1, 1, 1, 1, 0, 0, 1, 1, 1, 1, 0, 1, 1]\n"
     ]
    }
   ],
   "source": [
    "#Spliting data into training and testing \n",
    "Train_data_with_label = []\n",
    "Test_data_with_label = []\n",
    "Train_data =[]\n",
    "Train_label = []\n",
    "Test_data = []\n",
    "Test_label = []\n",
    "imageSize = 227\n",
    "np.random.shuffle(Dataset)\n",
    "Train_data_with_label = Dataset[:1980]\n",
    "Test_data_with_label = Dataset[1980:]\n",
    "for features, label in Train_data_with_label:\n",
    "    Train_data.append(features)\n",
    "    Train_label.append(label)\n",
    "for features, label in Test_data_with_label:\n",
    "    Test_data.append(features)\n",
    "    Test_label.append(label)\n",
    "print(len(Test_data))\n",
    "print(len(Train_data))\n",
    "print(Test_label)"
   ]
  },
  {
   "cell_type": "code",
   "execution_count": 5,
   "metadata": {},
   "outputs": [
    {
     "name": "stdout",
     "output_type": "stream",
     "text": [
      "(1980, 227, 227, 3)\n",
      "(494, 227, 227, 3)\n"
     ]
    }
   ],
   "source": [
    "#converting images to numpy arrays and reshaping\n",
    "Train_data = np.array(Train_data).reshape(-1, imageSize, imageSize, 3)\n",
    "print(Train_data.shape)\n",
    "Train_label = to_categorical(Train_label)\n",
    "Test_data = np.array(Test_data).reshape(-1, imageSize, imageSize, 3)\n",
    "print(Test_data.shape)\n",
    "Test_label = to_categorical(Test_label)"
   ]
  },
  {
   "cell_type": "code",
   "execution_count": 6,
   "metadata": {},
   "outputs": [],
   "source": [
    "model = keras.models.Sequential([\n",
    "    keras.layers.Conv2D(filters=96, kernel_size=(11,11), strides=(4,4), activation='relu', input_shape=(227,227,3)),\n",
    "    keras.layers.BatchNormalization(),\n",
    "    keras.layers.MaxPool2D(pool_size=(3,3), strides=(2,2)),\n",
    "    keras.layers.Conv2D(filters=256, kernel_size=(5,5), strides=(1,1), activation='relu', padding=\"same\"),\n",
    "    keras.layers.BatchNormalization(),\n",
    "    keras.layers.MaxPool2D(pool_size=(3,3), strides=(2,2)),\n",
    "    keras.layers.Conv2D(filters=384, kernel_size=(3,3), strides=(1,1), activation='relu', padding=\"same\"),\n",
    "    keras.layers.BatchNormalization(),\n",
    "    keras.layers.Conv2D(filters=384, kernel_size=(3,3), strides=(1,1), activation='relu', padding=\"same\"),\n",
    "    keras.layers.BatchNormalization(),\n",
    "    keras.layers.Conv2D(filters=256, kernel_size=(3,3), strides=(1,1), activation='relu', padding=\"same\"),\n",
    "    keras.layers.BatchNormalization(),\n",
    "    keras.layers.MaxPool2D(pool_size=(3,3), strides=(2,2)),\n",
    "    keras.layers.Flatten(),\n",
    "    keras.layers.Dense(4096, activation='relu'),\n",
    "    keras.layers.Dropout(0.5),\n",
    "    keras.layers.Dense(4096, activation='relu'),\n",
    "    keras.layers.Dropout(0.5),\n",
    "    keras.layers.Dense(2, activation='softmax')\n",
    "])"
   ]
  },
  {
   "cell_type": "code",
   "execution_count": 7,
   "metadata": {},
   "outputs": [],
   "source": [
    "root_logdir = os.path.join(os.curdir, \"logs\\\\fit\\\\\")\n",
    "def get_run_logdir():\n",
    "    run_id = time.strftime(\"run_%Y_%m_%d-%H_%M_%S\")\n",
    "    return os.path.join(root_logdir, run_id)\n",
    "run_logdir = get_run_logdir()\n",
    "tensorboard_cb = keras.callbacks.TensorBoard(run_logdir)"
   ]
  },
  {
   "cell_type": "code",
   "execution_count": 8,
   "metadata": {},
   "outputs": [],
   "source": [
    "model.compile(loss='categorical_crossentropy',\n",
    "              optimizer='adam',\n",
    "              metrics=['accuracy'],\n",
    "              )"
   ]
  },
  {
   "cell_type": "code",
   "execution_count": 9,
   "metadata": {},
   "outputs": [
    {
     "name": "stdout",
     "output_type": "stream",
     "text": [
      "Epoch 1/10\n",
      "44/44 [==============================] - 218s 5s/step - loss: 31.6862 - accuracy: 0.6035 - val_loss: 8.3079 - val_accuracy: 0.5993\n",
      "Epoch 2/10\n",
      "44/44 [==============================] - 193s 4s/step - loss: 1.8020 - accuracy: 0.8327 - val_loss: 8.9514 - val_accuracy: 0.5690\n",
      "Epoch 3/10\n",
      "44/44 [==============================] - 190s 4s/step - loss: 0.8309 - accuracy: 0.8553 - val_loss: 9.5898 - val_accuracy: 0.5875\n",
      "Epoch 4/10\n",
      "44/44 [==============================] - 191s 4s/step - loss: 0.2127 - accuracy: 0.9401 - val_loss: 5.4706 - val_accuracy: 0.6751\n",
      "Epoch 5/10\n",
      "44/44 [==============================] - 189s 4s/step - loss: 0.2806 - accuracy: 0.9266 - val_loss: 2.2585 - val_accuracy: 0.8401\n",
      "Epoch 6/10\n",
      "44/44 [==============================] - 190s 4s/step - loss: 0.2893 - accuracy: 0.9233 - val_loss: 3.6879 - val_accuracy: 0.6330\n",
      "Epoch 7/10\n",
      "44/44 [==============================] - 189s 4s/step - loss: 0.1615 - accuracy: 0.9570 - val_loss: 7.3743 - val_accuracy: 0.5707\n",
      "Epoch 8/10\n",
      "44/44 [==============================] - 193s 4s/step - loss: 0.1698 - accuracy: 0.9425 - val_loss: 3.1308 - val_accuracy: 0.6751\n",
      "Epoch 9/10\n",
      "44/44 [==============================] - 191s 4s/step - loss: 0.1292 - accuracy: 0.9565 - val_loss: 20.9747 - val_accuracy: 0.5034\n",
      "Epoch 10/10\n",
      "44/44 [==============================] - 193s 4s/step - loss: 0.2194 - accuracy: 0.9470 - val_loss: 2.3844 - val_accuracy: 0.7828\n"
     ]
    },
    {
     "data": {
      "text/plain": [
       "<tensorflow.python.keras.callbacks.History at 0x1ffb3683148>"
      ]
     },
     "execution_count": 9,
     "metadata": {},
     "output_type": "execute_result"
    }
   ],
   "source": [
    "model.fit(Train_data, Train_label,\n",
    "          batch_size = 32,\n",
    "          epochs=10, validation_split = 0.3,callbacks=[tensorboard_cb])"
   ]
  },
  {
   "cell_type": "code",
   "execution_count": 9,
   "metadata": {},
   "outputs": [],
   "source": [
    "def prepare(filepath):\n",
    "    imageSize = 227\n",
    "    image = cv2.imread(filepath)/255 \n",
    "    image_resize = cv2.resize(image, (imageSize, imageSize))  \n",
    "    return image_resize.reshape(-1, imageSize, imageSize, 3)"
   ]
  },
  {
   "cell_type": "code",
   "execution_count": 10,
   "metadata": {},
   "outputs": [
    {
     "name": "stdout",
     "output_type": "stream",
     "text": [
      "[[9.999050e-01 9.497166e-05]]\n",
      "Healthy Pepper\n"
     ]
    }
   ],
   "source": [
    "prediction = model.predict(prepare(\"C:\\\\Users\\\\Marhaba\\\\Desktop\\ML\\\\Pepper-Health-Check-Using-AlexNet\\\\healthy_4.jpg\"))\n",
    "print((prediction))\n",
    "\n",
    "\n",
    "CATEGORIES = [\"Healthy Pepper\", \"Not Healthy Pepper\"]\n",
    "\n",
    "pred_class = CATEGORIES[np.argmax(prediction)]\n",
    "print(pred_class)"
   ]
  },
  {
   "cell_type": "code",
   "execution_count": 11,
   "metadata": {},
   "outputs": [
    {
     "ename": "AttributeError",
     "evalue": "'History' object has no attribute 'keys'",
     "output_type": "error",
     "traceback": [
      "\u001b[1;31m---------------------------------------------------------------------------\u001b[0m",
      "\u001b[1;31mAttributeError\u001b[0m                            Traceback (most recent call last)",
      "\u001b[1;32m<ipython-input-11-3c907fbbff6c>\u001b[0m in \u001b[0;36m<module>\u001b[1;34m\u001b[0m\n\u001b[1;32m----> 1\u001b[1;33m \u001b[0mmodel\u001b[0m\u001b[1;33m.\u001b[0m\u001b[0mhistory\u001b[0m\u001b[1;33m.\u001b[0m\u001b[0mkeys\u001b[0m\u001b[1;33m\u001b[0m\u001b[1;33m\u001b[0m\u001b[0m\n\u001b[0m",
      "\u001b[1;31mAttributeError\u001b[0m: 'History' object has no attribute 'keys'"
     ]
    }
   ],
   "source": [
    "\n"
   ]
  },
  {
   "cell_type": "code",
   "execution_count": null,
   "metadata": {},
   "outputs": [],
   "source": []
  }
 ],
 "metadata": {
  "kernelspec": {
   "display_name": "Python 3",
   "language": "python",
   "name": "python3"
  },
  "language_info": {
   "codemirror_mode": {
    "name": "ipython",
    "version": 3
   },
   "file_extension": ".py",
   "mimetype": "text/x-python",
   "name": "python",
   "nbconvert_exporter": "python",
   "pygments_lexer": "ipython3",
   "version": "3.7.4"
  }
 },
 "nbformat": 4,
 "nbformat_minor": 4
}
