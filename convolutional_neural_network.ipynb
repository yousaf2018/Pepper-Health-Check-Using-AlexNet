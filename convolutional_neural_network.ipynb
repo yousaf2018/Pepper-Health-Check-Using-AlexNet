{
 "cells": [
  {
   "cell_type": "markdown",
   "metadata": {
    "colab_type": "text",
    "id": "3DR-eO17geWu"
   },
   "source": [
    "# Convolutional Neural Network"
   ]
  },
  {
   "cell_type": "code",
   "execution_count": 1,
   "metadata": {
    "colab": {},
    "colab_type": "code",
    "id": "sCV30xyVhFbE"
   },
   "outputs": [],
   "source": [
    "import tensorflow as tf\n",
    "from keras.preprocessing.image import ImageDataGenerator\n",
    "import matplotlib.pyplot as plt\n",
    "import keras\n",
    "import keras_metrics "
   ]
  },
  {
   "cell_type": "code",
   "execution_count": 2,
   "metadata": {
    "colab": {},
    "colab_type": "code",
    "id": "0koUcJMJpEBD"
   },
   "outputs": [
    {
     "name": "stdout",
     "output_type": "stream",
     "text": [
      "Found 1978 images belonging to 2 classes.\n"
     ]
    }
   ],
   "source": [
    "train_datagen = ImageDataGenerator(rescale = 1./255,\n",
    "                                   shear_range = 0.2,\n",
    "                                   zoom_range = 0.2,\n",
    "                                   horizontal_flip = True)\n",
    "training_set = train_datagen.flow_from_directory('PlantVillage/Training',\n",
    "                                                 target_size = (96, 96),\n",
    "                                                 batch_size = 32,\n",
    "                                                 class_mode = 'binary')"
   ]
  },
  {
   "cell_type": "markdown",
   "metadata": {
    "colab_type": "text",
    "id": "mrCMmGw9pHys"
   },
   "source": [
    "### Preprocessing the Test set"
   ]
  },
  {
   "cell_type": "code",
   "execution_count": 3,
   "metadata": {
    "colab": {},
    "colab_type": "code",
    "id": "SH4WzfOhpKc3"
   },
   "outputs": [
    {
     "name": "stdout",
     "output_type": "stream",
     "text": [
      "Found 496 images belonging to 2 classes.\n"
     ]
    }
   ],
   "source": [
    "test_datagen = ImageDataGenerator(rescale = 1./255)\n",
    "test_set = test_datagen.flow_from_directory('PlantVillage/Testing',\n",
    "                                            target_size = (96, 96),\n",
    "                                            batch_size = 32,\n",
    "                                            class_mode = 'binary')\n",
    "\n"
   ]
  },
  {
   "cell_type": "code",
   "execution_count": 4,
   "metadata": {
    "colab": {},
    "colab_type": "code",
    "id": "SAUt4UMPlhLS"
   },
   "outputs": [],
   "source": [
    "cnn = tf.keras.models.Sequential()"
   ]
  },
  {
   "cell_type": "code",
   "execution_count": 5,
   "metadata": {
    "colab": {},
    "colab_type": "code",
    "id": "XPzPrMckl-hV"
   },
   "outputs": [],
   "source": [
    "cnn.add(tf.keras.layers.Conv2D(filters=32, kernel_size=3, activation='relu', input_shape=[96, 96, 3]))\n",
    "cnn.add(tf.keras.layers.MaxPool2D(pool_size=2, strides=2))"
   ]
  },
  {
   "cell_type": "code",
   "execution_count": 6,
   "metadata": {
    "colab": {},
    "colab_type": "code",
    "id": "i_-FZjn_m8gk"
   },
   "outputs": [],
   "source": [
    "cnn.add(tf.keras.layers.Conv2D(filters=32, kernel_size=3, activation='relu'))\n",
    "cnn.add(tf.keras.layers.MaxPool2D(pool_size=2, strides=2))"
   ]
  },
  {
   "cell_type": "code",
   "execution_count": 7,
   "metadata": {
    "colab": {},
    "colab_type": "code",
    "id": "6AZeOGCvnNZn"
   },
   "outputs": [],
   "source": [
    "cnn.add(tf.keras.layers.Flatten())"
   ]
  },
  {
   "cell_type": "code",
   "execution_count": 8,
   "metadata": {
    "colab": {},
    "colab_type": "code",
    "id": "8GtmUlLd26Nq"
   },
   "outputs": [],
   "source": [
    "cnn.add(tf.keras.layers.Dense(units=128, activation='relu'))"
   ]
  },
  {
   "cell_type": "code",
   "execution_count": 9,
   "metadata": {
    "colab": {},
    "colab_type": "code",
    "id": "1p_Zj1Mc3Ko_"
   },
   "outputs": [],
   "source": [
    "cnn.add(tf.keras.layers.Dense(units=1, activation='sigmoid'))"
   ]
  },
  {
   "cell_type": "code",
   "execution_count": 10,
   "metadata": {
    "colab": {},
    "colab_type": "code",
    "id": "NALksrNQpUlJ"
   },
   "outputs": [],
   "source": [
    "\n",
    "cnn.compile(optimizer = 'adam', loss = 'binary_crossentropy', metrics = ['accuracy',keras_metrics.precision(), keras_metrics.recall()])"
   ]
  },
  {
   "cell_type": "markdown",
   "metadata": {
    "colab_type": "text",
    "id": "ehS-v3MIpX2h"
   },
   "source": [
    "### Training the CNN"
   ]
  },
  {
   "cell_type": "code",
   "execution_count": 11,
   "metadata": {
    "colab": {},
    "colab_type": "code",
    "id": "XUj1W4PJptta"
   },
   "outputs": [
    {
     "name": "stdout",
     "output_type": "stream",
     "text": [
      "Epoch 1/16\n",
      "WARNING:tensorflow:`add_update` `inputs` kwarg has been deprecated. You no longer need to pass a value to `inputs` as it is being automatically inferred.\n",
      "WARNING:tensorflow:`add_update` `inputs` kwarg has been deprecated. You no longer need to pass a value to `inputs` as it is being automatically inferred.\n",
      "WARNING:tensorflow:`add_update` `inputs` kwarg has been deprecated. You no longer need to pass a value to `inputs` as it is being automatically inferred.\n",
      "WARNING:tensorflow:`add_update` `inputs` kwarg has been deprecated. You no longer need to pass a value to `inputs` as it is being automatically inferred.\n"
     ]
    },
    {
     "name": "stderr",
     "output_type": "stream",
     "text": [
      "C:\\Users\\admin\\AppData\\Roaming\\Python\\Python38\\site-packages\\keras\\engine\\base_layer.py:1307: UserWarning: `layer.updates` will be removed in a future version. This property should not be used in TensorFlow 2.0, as `updates` are applied automatically.\n",
      "  warnings.warn('`layer.updates` will be removed in a future version. '\n"
     ]
    },
    {
     "name": "stdout",
     "output_type": "stream",
     "text": [
      "WARNING:tensorflow:`add_update` `inputs` kwarg has been deprecated. You no longer need to pass a value to `inputs` as it is being automatically inferred.\n",
      "WARNING:tensorflow:`add_update` `inputs` kwarg has been deprecated. You no longer need to pass a value to `inputs` as it is being automatically inferred.\n",
      "WARNING:tensorflow:`add_update` `inputs` kwarg has been deprecated. You no longer need to pass a value to `inputs` as it is being automatically inferred.\n",
      "WARNING:tensorflow:`add_update` `inputs` kwarg has been deprecated. You no longer need to pass a value to `inputs` as it is being automatically inferred.\n",
      "62/62 [==============================] - ETA: 0s - loss: 0.5272 - accuracy: 0.7427 - precision: 0.6990 - recall: 0.6585WARNING:tensorflow:`add_update` `inputs` kwarg has been deprecated. You no longer need to pass a value to `inputs` as it is being automatically inferred.\n",
      "WARNING:tensorflow:`add_update` `inputs` kwarg has been deprecated. You no longer need to pass a value to `inputs` as it is being automatically inferred.\n",
      "WARNING:tensorflow:`add_update` `inputs` kwarg has been deprecated. You no longer need to pass a value to `inputs` as it is being automatically inferred.\n",
      "WARNING:tensorflow:`add_update` `inputs` kwarg has been deprecated. You no longer need to pass a value to `inputs` as it is being automatically inferred.\n",
      "62/62 [==============================] - 28s 415ms/step - loss: 0.5272 - accuracy: 0.7427 - precision: 0.6990 - recall: 0.6585 - val_loss: 0.3230 - val_accuracy: 0.8810 - val_precision: 0.7860 - val_recall: 0.8185\n",
      "Epoch 2/16\n",
      "62/62 [==============================] - 23s 363ms/step - loss: 0.3085 - accuracy: 0.8726 - precision: 0.8167 - recall: 0.8564 - val_loss: 0.2683 - val_accuracy: 0.8851 - val_precision: 0.8298 - val_recall: 0.8765\n",
      "Epoch 3/16\n",
      "62/62 [==============================] - 27s 428ms/step - loss: 0.2670 - accuracy: 0.8964 - precision: 0.8381 - recall: 0.8886 - val_loss: 0.2671 - val_accuracy: 0.8831 - val_precision: 0.8479 - val_recall: 0.9019\n",
      "Epoch 4/16\n",
      "62/62 [==============================] - 32s 511ms/step - loss: 0.2053 - accuracy: 0.9090 - precision: 0.8546 - recall: 0.9096 - val_loss: 0.1791 - val_accuracy: 0.9395 - val_precision: 0.8622 - val_recall: 0.9154\n",
      "Epoch 5/16\n",
      "62/62 [==============================] - 37s 603ms/step - loss: 0.1870 - accuracy: 0.9262 - precision: 0.8684 - recall: 0.9209 - val_loss: 0.2251 - val_accuracy: 0.8992 - val_precision: 0.8718 - val_recall: 0.9259\n",
      "Epoch 6/16\n",
      "62/62 [==============================] - 33s 524ms/step - loss: 0.1543 - accuracy: 0.9358 - precision: 0.8753 - recall: 0.9302 - val_loss: 0.1568 - val_accuracy: 0.9335 - val_precision: 0.8799 - val_recall: 0.9337\n",
      "Epoch 7/16\n",
      "62/62 [==============================] - 25s 400ms/step - loss: 0.1565 - accuracy: 0.9429 - precision: 0.8835 - recall: 0.9362 - val_loss: 0.1388 - val_accuracy: 0.9496 - val_precision: 0.8878 - val_recall: 0.9392\n",
      "Epoch 8/16\n",
      "62/62 [==============================] - 30s 482ms/step - loss: 0.1325 - accuracy: 0.9525 - precision: 0.8909 - recall: 0.9419 - val_loss: 0.1025 - val_accuracy: 0.9677 - val_precision: 0.8948 - val_recall: 0.9441\n",
      "Epoch 9/16\n",
      "62/62 [==============================] - 26s 420ms/step - loss: 0.1400 - accuracy: 0.9449 - precision: 0.8984 - recall: 0.9456 - val_loss: 0.1538 - val_accuracy: 0.9435 - val_precision: 0.9009 - val_recall: 0.9463\n",
      "Epoch 10/16\n",
      "62/62 [==============================] - 31s 507ms/step - loss: 0.1073 - accuracy: 0.9651 - precision: 0.9040 - recall: 0.9473 - val_loss: 0.1171 - val_accuracy: 0.9577 - val_precision: 0.9067 - val_recall: 0.9493\n",
      "Epoch 11/16\n",
      "62/62 [==============================] - 29s 464ms/step - loss: 0.0902 - accuracy: 0.9692 - precision: 0.9091 - recall: 0.9508 - val_loss: 0.0873 - val_accuracy: 0.9677 - val_precision: 0.9117 - val_recall: 0.9525\n",
      "Epoch 12/16\n",
      "62/62 [==============================] - 35s 562ms/step - loss: 0.0897 - accuracy: 0.9687 - precision: 0.9142 - recall: 0.9538 - val_loss: 0.1220 - val_accuracy: 0.9657 - val_precision: 0.9163 - val_recall: 0.9548\n",
      "Epoch 13/16\n",
      "62/62 [==============================] - 30s 479ms/step - loss: 0.1309 - accuracy: 0.9535 - precision: 0.9181 - recall: 0.9554 - val_loss: 0.2190 - val_accuracy: 0.9133 - val_precision: 0.9194 - val_recall: 0.9550\n",
      "Epoch 14/16\n",
      "62/62 [==============================] - 30s 493ms/step - loss: 0.0870 - accuracy: 0.9712 - precision: 0.9212 - recall: 0.9552 - val_loss: 0.0751 - val_accuracy: 0.9778 - val_precision: 0.9231 - val_recall: 0.9563\n",
      "Epoch 15/16\n",
      "62/62 [==============================] - 26s 425ms/step - loss: 0.0796 - accuracy: 0.9692 - precision: 0.9246 - recall: 0.9572 - val_loss: 0.0863 - val_accuracy: 0.9637 - val_precision: 0.9261 - val_recall: 0.9579\n",
      "Epoch 16/16\n",
      "62/62 [==============================] - 35s 560ms/step - loss: 0.0623 - accuracy: 0.9788 - precision: 0.9277 - recall: 0.9587 - val_loss: 0.0873 - val_accuracy: 0.9597 - val_precision: 0.9292 - val_recall: 0.9595\n"
     ]
    }
   ],
   "source": [
    "model = cnn.fit(x = training_set, validation_data = test_set, epochs = 16)"
   ]
  },
  {
   "cell_type": "markdown",
   "metadata": {
    "colab_type": "text",
    "id": "U3PZasO0006Z"
   },
   "source": [
    "## Prediction"
   ]
  },
  {
   "cell_type": "code",
   "execution_count": 12,
   "metadata": {
    "colab": {},
    "colab_type": "code",
    "id": "gsSiWEJY1BPB"
   },
   "outputs": [],
   "source": [
    "import numpy as np\n",
    "from keras.preprocessing import image\n",
    "test_image = image.load_img('PlantVillage/predict/healthy.jpg', target_size = (96, 96))\n",
    "test_image = image.img_to_array(test_image)\n",
    "test_image = np.expand_dims(test_image, axis = 0)\n",
    "result = cnn.predict(test_image)\n",
    "training_set.class_indices\n",
    "if result[0][0] == 1:\n",
    "  prediction = 'Healthy Pepper'\n",
    "else:\n",
    "  prediction = 'Bacteria Pepper'"
   ]
  },
  {
   "cell_type": "code",
   "execution_count": 13,
   "metadata": {
    "colab": {},
    "colab_type": "code",
    "id": "ED9KB3I54c1i"
   },
   "outputs": [
    {
     "name": "stdout",
     "output_type": "stream",
     "text": [
      "Healthy Pepper\n"
     ]
    }
   ],
   "source": [
    "print(prediction)"
   ]
  },
  {
   "cell_type": "markdown",
   "metadata": {},
   "source": [
    "## Plot"
   ]
  },
  {
   "cell_type": "code",
   "execution_count": 14,
   "metadata": {},
   "outputs": [
    {
     "data": {
      "image/png": "[encoded data removed]",
      "text/plain": [
       "<Figure size 432x288 with 1 Axes>"
      ]
     },
     "metadata": {
      "needs_background": "light"
     },
     "output_type": "display_data"
    }
   ],
   "source": [
    "# summarize history for accuracy\n",
    "plt.plot(model.history['accuracy'])\n",
    "plt.plot(model.history['val_accuracy'])\n",
    "plt.title('model accuracy')\n",
    "plt.ylabel('accuracy')\n",
    "plt.xlabel('epoch')\n",
    "plt.legend(['train', 'test'], loc='upper left')\n",
    "plt.show()"
   ]
  },
  {
   "cell_type": "code",
   "execution_count": 15,
   "metadata": {},
   "outputs": [
    {
     "data": {
      "image/png": "[encoded data removed]",
      "text/plain": [
       "<Figure size 432x288 with 1 Axes>"
      ]
     },
     "metadata": {
      "needs_background": "light"
     },
     "output_type": "display_data"
    }
   ],
   "source": [
    "plt.plot(model.history['loss'])\n",
    "plt.plot(model.history['val_loss'])\n",
    "plt.title('loss')\n",
    "plt.ylabel('loss')\n",
    "plt.xlabel('epoch')\n",
    "plt.legend(['loss','val_loss'], loc='upper left')\n",
    "plt.show()"
   ]
  },
  {
   "cell_type": "code",
   "execution_count": 16,
   "metadata": {},
   "outputs": [
    {
     "name": "stdout",
     "output_type": "stream",
     "text": [
      "Model: \"sequential\"\n",
      "_________________________________________________________________\n",
      "Layer (type)                 Output Shape              Param #   \n",
      "=================================================================\n",
      "conv2d (Conv2D)              (None, 94, 94, 32)        896       \n",
      "_________________________________________________________________\n",
      "max_pooling2d (MaxPooling2D) (None, 47, 47, 32)        0         \n",
      "_________________________________________________________________\n",
      "conv2d_1 (Conv2D)            (None, 45, 45, 32)        9248      \n",
      "_________________________________________________________________\n",
      "max_pooling2d_1 (MaxPooling2 (None, 22, 22, 32)        0         \n",
      "_________________________________________________________________\n",
      "flatten (Flatten)            (None, 15488)             0         \n",
      "_________________________________________________________________\n",
      "dense (Dense)                (None, 128)               1982592   \n",
      "_________________________________________________________________\n",
      "dense_1 (Dense)              (None, 1)                 129       \n",
      "=================================================================\n",
      "Total params: 1,992,865\n",
      "Trainable params: 1,992,865\n",
      "Non-trainable params: 0\n",
      "_________________________________________________________________\n"
     ]
    }
   ],
   "source": [
    "cnn.summary()"
   ]
  },
  {
   "cell_type": "code",
   "execution_count": null,
   "metadata": {},
   "outputs": [],
   "source": []
  },
  {
   "cell_type": "code",
   "execution_count": null,
   "metadata": {},
   "outputs": [],
   "source": []
  },
  {
   "cell_type": "code",
   "execution_count": null,
   "metadata": {},
   "outputs": [],
   "source": []
  },
  {
   "cell_type": "code",
   "execution_count": null,
   "metadata": {},
   "outputs": [],
   "source": []
  },
  {
   "cell_type": "code",
   "execution_count": null,
   "metadata": {},
   "outputs": [],
   "source": []
  }
 ],
 "metadata": {
  "colab": {
   "collapsed_sections": [],
   "name": "convolutional_neural_network.ipynb",
   "provenance": [],
   "toc_visible": true
  },
  "kernelspec": {
   "display_name": "Python 3",
   "language": "python",
   "name": "python3"
  },
  "language_info": {
   "codemirror_mode": {
    "name": "ipython",
    "version": 3
   },
   "file_extension": ".py",
   "mimetype": "text/x-python",
   "name": "python",
   "nbconvert_exporter": "python",
   "pygments_lexer": "ipython3",
   "version": "3.8.0"
  }
 },
 "nbformat": 4,
 "nbformat_minor": 4
}
