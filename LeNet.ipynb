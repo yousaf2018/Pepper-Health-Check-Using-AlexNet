{
 "cells": [
  {
   "cell_type": "code",
   "execution_count": 1,
   "id": "armed-devil",
   "metadata": {},
   "outputs": [],
   "source": [
    "import cv2\n",
    "import numpy as np\n",
    "import os\n",
    "import tensorflowjs as tfjs\n",
    "import matplotlib.pyplot as plt\n",
    "from keras.preprocessing.image import ImageDataGenerator"
   ]
  },
  {
   "cell_type": "code",
   "execution_count": 2,
   "id": "scientific-third",
   "metadata": {},
   "outputs": [],
   "source": [
    "trainingDataset = []\n",
    "classNumber = 0\n",
    "img_size = 150\n",
    "path = \"C:\\\\Users\\\\admin\\\\Desktop\\\\data\""
   ]
  },
  {
   "cell_type": "code",
   "execution_count": 3,
   "id": "according-freeware",
   "metadata": {},
   "outputs": [
    {
     "name": "stdout",
     "output_type": "stream",
     "text": [
      "0\n",
      "997\n",
      "1\n",
      "2474\n"
     ]
    }
   ],
   "source": [
    "trainingDataset.clear()\n",
    "for folder in (os.listdir(path)):\n",
    "    print(classNumber)\n",
    "    fp = os.path.join(path,folder)\n",
    "    for eachImage in os.listdir(fp):\n",
    "        imagePath = os.path.join(fp,eachImage)\n",
    "        img = (cv2.imread(imagePath,cv2.IMREAD_GRAYSCALE))/255\n",
    "        img = cv2.resize(img, (img_size, img_size))\n",
    "        trainingDataset.append([img,classNumber])\n",
    "    classNumber = classNumber + 1\n",
    "    print(len(trainingDataset))\n",
    "\n",
    "#print(len(trainingDataset))\n",
    "#print(len(trainingDataset[0]))\n",
    "#print(len(trainingDataset[0]))"
   ]
  },
  {
   "cell_type": "code",
   "execution_count": 4,
   "id": "abandoned-handle",
   "metadata": {},
   "outputs": [],
   "source": [
    "from tensorflow.keras.models import Sequential\n",
    "from tensorflow.keras.layers import Dense, Dropout, Activation, Flatten\n",
    "from tensorflow.keras.layers import Conv2D, MaxPooling2D\n",
    "from tensorflow.keras.callbacks import TensorBoard\n",
    "from tensorflow.keras.utils import to_categorical\n",
    "import pickle\n",
    "import time"
   ]
  },
  {
   "cell_type": "code",
   "execution_count": 5,
   "id": "central-wholesale",
   "metadata": {},
   "outputs": [
    {
     "name": "stdout",
     "output_type": "stream",
     "text": [
      "[0, 1, 1, 1, 0, 0, 1, 1, 1, 0, 0, 1, 0, 1, 1, 0, 0, 0, 1, 0, 0, 1, 0, 1, 1, 0, 1, 1, 1, 1, 1, 1, 0, 1, 0, 1, 0, 1, 1, 1, 1, 1, 0, 1, 1, 1, 1, 0, 0, 0, 0, 0, 1, 0, 1, 0, 1, 1, 0, 1, 0, 1, 0, 1, 1, 1, 0, 0, 1, 1, 1, 1, 0, 1, 1, 1, 1, 1, 1, 1, 1, 1, 0, 1, 1, 1, 0, 1, 1, 1, 1, 1, 0, 0, 1, 1, 1, 1, 0, 1, 0, 0, 1, 0, 0, 1, 1, 1, 0, 0, 0, 1, 1, 0, 1, 0, 1, 0, 1, 0, 0, 1, 0, 1, 0, 1, 1, 1, 0, 0, 1, 1, 0, 1, 1, 1, 1, 1, 0, 1, 1, 1, 1, 1, 1, 1, 1, 1, 0, 1, 0, 0, 1, 0, 0, 0, 1, 1, 1, 1, 1, 1, 1, 1, 1, 0, 0, 0, 1, 0, 1, 1, 1, 0, 0, 1, 0, 0, 0, 0, 1, 1, 0, 0, 1, 1, 1, 1, 0, 0, 1, 0, 1, 0, 0, 0, 1, 1, 1, 1, 0, 1, 1, 0, 0, 0, 1, 1, 0, 1, 1, 0, 1, 1, 1, 0, 1, 0, 1, 1, 0, 0, 1, 0, 1, 1, 1, 0, 1, 0, 1, 0, 0, 0, 0, 1, 1, 1, 1, 0, 1, 1, 1, 1, 1, 1, 1, 0, 0, 1, 1, 0, 1, 0, 1, 1, 0, 1, 0, 1, 1, 1, 0, 0, 1, 1, 0, 0, 1, 0, 0, 0, 1, 0, 1, 1, 1, 1, 0, 1, 0, 1, 0, 1, 0, 0, 0, 1, 1, 0, 1, 1, 0, 1, 1, 1, 0, 1, 0, 1, 0, 1, 0, 0, 1, 0, 0, 1, 1, 1, 0, 1, 1, 0, 0, 0, 1, 0, 1, 0, 1, 1, 0, 1, 1, 1, 1, 1, 0, 0, 1, 0, 1, 1, 0, 0, 1, 0, 0, 0, 0, 1, 1, 1, 1, 0, 1, 0, 1, 0, 0, 0, 1, 1, 0, 0, 1, 1, 0, 0, 0, 1, 0, 0, 1, 0, 1, 0, 0, 1, 1, 0, 1, 0, 0, 0, 1, 1, 1, 0, 0, 0, 1, 0, 1, 0, 1, 0, 0, 1, 0, 0, 1, 0, 1, 1, 0, 1, 0, 0, 0, 1, 1, 0, 0, 1, 0, 1, 0, 0, 1, 1, 1, 0, 1, 0, 0, 1, 1, 1, 0, 1, 0, 0, 1, 0, 1, 0, 1, 1, 0, 1, 0, 1, 1, 1, 1, 1, 0, 1, 1, 1, 0, 0, 0, 1, 1, 0, 0, 1, 1, 1, 1, 0, 1, 1, 0, 0, 0, 0, 0, 0, 1, 1, 0, 1, 1, 0, 1, 1, 1, 1, 1, 1, 0, 0, 1, 0, 0, 0, 1, 1, 0, 0, 1, 1, 1, 0, 0, 0, 1, 1, 1, 1, 1, 1, 1, 0, 0, 0, 1, 1, 0, 1, 0, 0, 1, 1, 0, 0, 1, 0, 1, 1, 1, 1, 1, 1, 0, 0, 1, 1, 0, 0, 1, 1, 0, 1, 0, 1, 1, 0, 1, 0, 0, 1, 0, 1, 1, 0, 0, 1, 0, 1, 1, 0, 1, 1, 1, 1, 1, 1, 1, 1, 0, 1, 0, 1, 0, 0, 0, 1, 0, 1, 0, 0, 1, 1, 1, 1, 1, 1, 0, 1, 1, 0, 0, 1, 1, 1, 0, 1, 1, 0, 1, 1, 1, 0, 1, 1, 1, 0, 1, 1, 1, 1, 0, 0, 0, 1, 1, 1, 1, 1, 1, 1, 1, 1, 1, 0, 1, 1, 1, 0, 1, 1, 1, 1, 0, 1, 0, 1, 0, 1, 1, 0, 0, 1, 1, 0, 1, 0, 0, 0, 0, 0, 0, 0, 1, 1, 0, 0, 0, 0, 0, 0, 1, 0, 0, 0, 1, 1, 0, 1, 1, 0, 1, 0, 0, 0, 1, 1, 0, 1, 1, 1, 1, 0, 1, 1, 1, 0, 1, 1, 1, 1, 0, 0, 0, 1, 1, 1, 0, 0, 0, 1, 0, 0, 1, 0, 1, 1, 0, 0, 1, 1, 0, 0, 1, 1, 1, 0, 1, 0, 0, 1, 1, 0, 0, 1, 1, 0, 1, 1, 1, 0, 0, 0, 1, 1, 1, 1, 0, 1, 1, 0, 1, 1, 0, 0, 0, 0, 0, 1, 0, 0, 1, 0, 0, 1, 1, 1, 1, 1, 0, 1, 0, 1, 0, 1, 0, 0, 1, 0, 0, 1, 1, 1, 0, 1, 1, 0, 1, 1, 1, 1, 1, 0, 1, 0, 0, 1, 1, 1, 1, 1, 1, 1, 1, 1, 1, 0, 1, 0, 1, 0, 0, 1, 0, 1, 0, 1, 1, 1, 0, 1, 1, 0, 1, 1, 0, 0, 1, 0, 1, 1, 1, 1, 1, 1, 0, 1, 0, 0, 0, 1, 1, 1, 1, 0, 1, 0, 0, 1, 0, 0, 1, 1, 0, 0, 0, 0, 1, 1, 1, 0, 1, 1, 1, 1, 1, 0, 1, 0, 1, 1, 1, 1, 1, 1, 1, 0, 0, 1, 1, 1, 1, 1, 0, 0, 1, 1, 1, 1, 0, 1, 1, 1, 1, 1, 1, 1, 0, 1, 1, 0, 1, 1, 0, 0, 0, 1, 1, 0, 1, 1, 1, 0, 1, 0, 1, 0, 1, 0, 0, 1, 1, 1, 1, 0, 1, 1, 1, 0, 0, 1, 0, 1, 1, 0, 1, 1, 0, 0, 0, 0, 1, 1, 1, 1, 1, 0, 1, 1, 0, 1, 1, 1, 0, 1, 1, 0, 0, 1, 1, 1, 0, 1, 0, 1, 0, 1, 1, 0, 1, 0, 1, 0, 0, 1, 0, 1, 0, 0, 1, 0, 0, 1, 1, 1, 1, 1, 0, 1, 1, 1, 0, 1, 1, 0, 1, 0, 1, 1, 1, 1, 1, 1, 1, 1, 1, 1, 1, 1, 1, 1, 1, 0, 1, 0, 0, 0, 0, 1, 1, 0, 0, 1, 1, 1, 0, 1, 1, 0, 0, 0, 0, 1, 0, 1, 0, 1, 1, 1, 1, 0, 1, 1, 1, 1, 0, 1, 0, 1, 1, 1, 1, 1, 1, 1, 1, 0, 0, 1, 1, 0, 1, 1, 0, 0, 1, 1, 0, 0, 1, 0, 0, 1, 1, 1, 1, 1, 1, 0, 0, 1, 0, 0, 1, 1, 0, 1, 0, 0, 1, 1, 0, 1, 1, 1, 1, 1, 1, 0, 1, 1, 1, 1, 1, 1, 1, 1, 0, 1, 1, 0, 1, 0, 1, 1, 1, 1, 1, 1, 1, 0, 1, 0, 1, 1, 1, 1, 1, 0, 1, 0, 1, 1, 1, 1, 1, 1, 1, 0, 1, 0, 1, 1, 0, 0, 0, 1, 0, 1, 1, 1, 1, 1, 0, 1, 0, 1, 1, 1, 0, 0, 0, 0, 1, 0, 0, 1, 1, 0, 0, 1, 0, 1, 0, 1, 1, 1, 0, 1, 1, 1, 1, 1, 1, 1, 1, 1, 1, 1, 1, 1, 1, 1, 0, 0, 1, 1, 1, 1, 1, 0, 0, 1, 0, 1, 1, 1, 1, 0, 0, 1, 1, 1, 1, 1, 1, 0, 0, 1, 1, 0, 0, 0, 1, 1, 1, 0, 1, 1, 1, 0, 1, 1, 0, 0, 1, 0, 1, 0, 1, 0, 1, 0, 1, 1, 1, 1, 1, 1, 1, 0, 0, 1, 1, 0, 0, 1, 1, 1, 0, 1, 0, 0, 1, 1, 1, 0, 1, 1, 0, 1, 0, 0, 1, 0, 1, 0, 1, 0, 1, 0, 1, 1, 0, 1, 0, 0, 1, 1, 1, 0, 0, 0, 1, 1, 0, 1, 0, 1, 0, 1, 1, 1, 1, 0, 1, 1, 1, 0, 0, 1, 1, 1, 1, 0, 1, 1, 1, 0, 0, 1, 1, 0, 0, 1, 0, 1, 0, 1, 0, 1, 1, 1, 0, 0, 0, 1, 1, 1, 0, 1, 1, 0, 1, 1, 1, 0, 1, 1, 1, 1, 0, 0, 0, 0, 1, 1, 1, 0, 1, 0, 1, 1, 1, 1, 1, 0, 1, 1, 0, 1, 0, 0, 1, 0, 1, 0, 0, 1, 1, 1, 1, 0, 1, 1, 1, 1, 1, 1, 1, 0, 0, 0, 1, 1, 1, 0, 1, 1, 1, 0, 1, 1, 0, 0, 1, 0, 1, 1, 0, 0, 1, 1, 1, 0, 1, 0, 0, 1, 1, 0, 1, 1, 0, 1, 1, 0, 1, 0, 0, 1, 0, 0, 0, 1, 1, 1, 1, 0, 0, 1, 1, 0, 1, 0, 1, 0, 1, 1, 1, 0, 1, 0, 1, 1, 0, 0, 0, 1, 0, 1, 0, 0, 1, 1, 1, 1, 0, 1, 1, 1, 0, 1, 0, 1, 1, 0, 1, 1, 1, 0, 0, 0, 0, 1, 0, 1, 1, 0, 1, 0, 0, 0, 1, 0, 0, 0, 1, 1, 0, 0, 1, 0, 1, 0, 0, 1, 1, 1, 1, 0, 0, 1, 1, 1, 1, 0, 0, 1, 0, 1, 0, 0, 0, 0, 0, 1, 0, 0, 1, 1, 0, 0, 0, 1, 0, 0, 0, 1, 0, 1, 1, 0, 1, 0, 1, 1, 0, 0, 1, 1, 0, 0, 1, 1, 1, 1, 1, 1, 1, 1, 1, 1, 1, 1, 1, 1, 0, 0, 1, 1, 1, 1, 0, 1, 1, 0, 0, 1, 1, 0, 1, 0, 1, 0, 0, 1, 0, 0, 1, 1, 1, 0, 1, 1, 0, 1, 1, 1, 1, 1, 1, 1, 0, 0, 0, 0, 0, 1, 1, 1, 1, 1, 1, 1, 0, 0, 0, 0, 0, 1, 0, 0, 0, 1, 1, 0, 0, 1, 0, 1, 0, 0, 1, 1, 0, 1, 1, 1, 0, 0, 0, 1, 1, 0, 0, 0, 1, 1, 0, 1, 1, 1, 1, 0, 1, 0, 1, 0, 1, 1, 1, 1, 1, 1, 1, 0, 0, 0, 0, 1, 1, 0, 1, 0, 1, 1, 1, 1, 0, 1, 0, 1, 1, 0, 0, 1, 0, 0, 1, 1, 1, 0, 0, 1, 1, 0, 0, 1, 1, 1, 0, 1, 1, 1, 0, 0, 1, 1, 1, 1, 1, 1, 1, 0, 1, 0, 1, 1, 1, 1, 0, 0, 0, 0, 1, 1, 1, 1, 1, 1, 1, 0, 1, 0, 0, 0, 1, 1, 1, 1, 1, 1, 0, 0, 1, 1, 1, 0, 0, 1, 1, 1, 1, 0, 1, 1, 1, 1, 0, 1, 0, 0, 0, 0, 1, 1, 1, 1, 1, 1, 0, 0, 1, 1, 1, 1, 0, 0, 0, 0, 1, 0, 1, 1, 0, 0, 1, 0, 0, 0, 1, 0, 1, 0, 1, 0, 1, 0, 0, 0, 1, 1, 1, 1, 0, 0, 1, 0, 0, 1, 1, 1, 0, 1, 0, 0, 0, 0, 0, 1, 0, 0, 1, 1, 1, 1, 0, 1, 0, 1, 1, 0, 1, 0, 1, 1, 1, 1, 0, 1, 1, 1, 1, 1, 1, 0, 1, 0, 0, 1, 0, 1, 0, 1, 0, 1, 1, 1, 0, 0, 1, 0, 0, 0, 1, 0, 0, 1, 1, 1, 0, 0, 1, 1, 0, 1, 0, 1, 0, 1, 1, 1, 1, 0, 1, 0, 1, 0, 1, 0, 0, 0, 0, 0, 1, 0, 1, 1, 1, 0, 0, 0, 0, 1, 0, 1, 0, 0, 0, 1, 1, 1, 0, 0, 0, 1, 1, 1, 1, 0, 1, 1, 0, 1, 1, 1, 0, 1, 1, 1, 1, 1, 1, 1, 1, 1, 1, 1, 1, 0, 1, 0, 0, 1, 1, 1, 0, 1, 0, 1, 1, 1, 1, 0, 1, 1, 1, 1, 0, 1, 1, 1, 1, 1, 1, 1, 1, 0, 0, 1, 1, 1, 1, 1, 0, 1, 1, 0, 1, 1, 1, 0, 1, 0, 1, 1, 1, 0, 0, 1, 1, 0, 1, 1, 0, 1, 1, 1, 1, 1, 0, 0, 1, 1, 0, 0, 0, 0, 1, 0, 1, 1, 1, 1, 0, 1, 1, 1, 1, 1, 1, 0, 1, 0, 1, 1, 0, 0, 1, 1, 1, 0, 1, 1, 1, 0, 1, 0, 1, 1, 0, 1, 0, 1, 1, 0, 1, 0, 1, 1, 0, 1, 0, 0, 0, 1, 0, 1, 0, 1, 1, 1, 1, 0, 1, 0, 0, 1, 0, 0, 0, 1, 1, 0, 1, 1, 1, 1, 1, 0, 0, 0, 0, 0, 0, 0, 0, 0, 0, 1, 1, 1, 0, 1, 1, 1, 1, 0, 1, 1, 0, 0, 0, 0, 0, 1, 1, 0, 0, 0, 0, 1, 1, 0, 0, 0, 0, 0, 1, 1, 1, 1, 1, 1, 1, 1, 0, 0, 1, 0, 1, 1, 0, 1, 0, 0, 0, 0, 0, 1, 1, 0, 1, 1, 1, 1, 1, 0, 0, 1, 0, 1, 1, 0, 1, 1, 0, 0, 1, 0, 1, 1, 1, 1, 1, 0, 1, 1, 1, 1, 0, 1, 1, 0, 1, 0, 0, 1, 1, 1, 1, 1, 1, 1, 1, 0, 1, 1, 1, 1, 0, 0, 0, 1, 0, 1, 1, 1, 1, 1, 1, 0, 1, 1, 1, 1, 1, 1, 1, 1, 0, 1, 0, 0, 1, 1, 1, 1, 1, 0, 0, 1, 1, 0, 1, 0, 1, 1, 1, 1, 1, 0, 0, 1, 1, 0, 0, 1, 1, 0, 1, 0, 1, 1, 1, 0, 1, 0, 0, 1, 1, 1, 0, 1, 1, 0, 1, 0, 0, 0, 1, 1, 0, 1, 0, 1, 1, 1, 0, 1, 0, 0, 1, 0, 0, 1, 1, 0, 1, 1, 1, 1, 1, 0, 1, 1, 0, 1, 1, 1, 0, 0, 1, 1, 0, 1, 1, 1, 1, 0, 0, 0, 0, 0, 1, 1, 1, 1, 1, 1, 1, 1, 1, 1, 1, 1, 0, 1, 1, 0, 1, 0, 1, 1, 0, 1, 1, 1, 0, 1, 0, 0, 1, 1, 1, 1, 0, 1, 1, 1, 0, 1, 1, 0, 0, 1, 1, 0, 1, 1, 1, 0, 0, 1, 0, 1, 1, 0, 1, 1, 1, 0, 1, 1, 0, 1, 0, 0, 1, 1, 0, 1, 1, 0, 1, 1, 1, 0, 1, 0, 0, 1, 0, 0, 0, 1, 1, 1, 0, 1, 0, 1, 1, 1, 0, 1, 0, 0, 0, 0, 1, 0, 1, 1, 0, 1, 1, 0, 1, 0, 1, 1, 1, 0, 1, 0, 0, 1, 0, 1, 1, 1, 0, 1, 1, 1, 0, 1, 0, 0, 0, 1, 0, 0, 0, 0, 1, 1, 1, 0, 0, 0, 1, 0, 1, 1, 1, 0, 0, 1, 1, 1, 1, 1, 1, 0, 0, 0, 1, 1, 1, 1, 0, 1, 1, 0, 1, 0, 0, 1, 0, 0, 0, 0, 1, 0, 0, 1, 1, 1, 1, 1, 1, 0, 1, 0, 0, 0, 1, 1, 1, 1, 1, 0, 0, 1, 0, 1]\n"
     ]
    }
   ],
   "source": [
    "X = []\n",
    "Y = []\n",
    "img_size = 150\n",
    "np.random.shuffle(trainingDataset)\n",
    "for features, label in trainingDataset:\n",
    "    X.append(features)\n",
    "    Y.append(label)\n",
    "print(Y) "
   ]
  },
  {
   "cell_type": "code",
   "execution_count": 6,
   "id": "confused-portable",
   "metadata": {},
   "outputs": [
    {
     "name": "stdout",
     "output_type": "stream",
     "text": [
      "(2474, 150, 150, 1)\n",
      "[[1. 0.]\n",
      " [0. 1.]\n",
      " [0. 1.]\n",
      " ...\n",
      " [0. 1.]\n",
      " [1. 0.]\n",
      " [0. 1.]]\n"
     ]
    }
   ],
   "source": [
    "X = np.array(X).reshape(-1, img_size, img_size, 1)\n",
    "print(X.shape)\n",
    "Y_binary = to_categorical(Y)\n",
    "print(Y_binary)"
   ]
  },
  {
   "cell_type": "code",
   "execution_count": 7,
   "id": "military-transport",
   "metadata": {},
   "outputs": [],
   "source": [
    "model = Sequential()\n",
    "\n",
    "model.add(Conv2D(40, (3, 3), input_shape=(150,150,1)))\n",
    "model.add(Activation('relu'))\n",
    "model.add(MaxPooling2D(pool_size=(2, 2)))\n",
    "model.add(Dropout(0.5))\n",
    "\n",
    "\n",
    "model.add(Conv2D(50, (3, 3)))\n",
    "model.add(Activation('relu'))\n",
    "model.add(MaxPooling2D(pool_size=(2, 2)))\n",
    "model.add(Dropout(0.5))\n",
    "\n",
    "\n",
    "model.add(Conv2D(60, (3, 3)))\n",
    "model.add(Activation('relu'))\n",
    "model.add(MaxPooling2D(pool_size=(2, 2)))\n",
    "model.add(Dropout(0.5))\n",
    "\n",
    "model.add(Flatten())\n",
    "\n",
    "model.add(Dense(150))\n",
    "model.add(Activation('relu'))\n",
    " \n",
    "model.add(Dense(2))\n",
    "model.add(Activation('softmax'))"
   ]
  },
  {
   "cell_type": "code",
   "execution_count": 8,
   "id": "constitutional-wholesale",
   "metadata": {},
   "outputs": [],
   "source": [
    " # NAME = \"3-conv-128-layer-dense-1-out-2-softmax-categorical-cross-2-CNN\"\n",
    "# tensorboard = TensorBoard(log_dir=\"/content/drive/My Drive/fruitsData/Logs/{}\".format(NAME))\n",
    "import keras\n",
    "import keras_metrics\n",
    "model.compile(loss='categorical_crossentropy',\n",
    "              optimizer='adam',\n",
    "              metrics=['accuracy',keras_metrics.precision(),keras_metrics.recall()])"
   ]
  },
  {
   "cell_type": "code",
   "execution_count": 9,
   "id": "detailed-stadium",
   "metadata": {},
   "outputs": [
    {
     "name": "stdout",
     "output_type": "stream",
     "text": [
      "Epoch 1/30\n",
      "WARNING:tensorflow:From C:\\Users\\admin\\anaconda3\\envs\\CNN\\lib\\site-packages\\keras_metrics\\metrics.py:51: calling Layer.add_update (from tensorflow.python.keras.engine.base_layer) with inputs is deprecated and will be removed in a future version.\n",
      "Instructions for updating:\n",
      "`inputs` is now automatically inferred\n",
      "WARNING:tensorflow:From C:\\Users\\admin\\anaconda3\\envs\\CNN\\lib\\site-packages\\keras_metrics\\metrics.py:26: Layer.updates (from tensorflow.python.keras.engine.base_layer) is deprecated and will be removed in a future version.\n",
      "Instructions for updating:\n",
      "This property should not be used in TensorFlow 2.0, as updates are applied automatically.\n",
      "55/55 [==============================] - 58s 1s/step - loss: 0.7208 - accuracy: 0.5858 - precision: 0.3425 - recall: 0.1090 - val_loss: 0.6754 - val_accuracy: 0.5949 - val_precision: 0.0000e+00 - val_recall: 0.0000e+00\n",
      "Epoch 2/30\n",
      "55/55 [==============================] - 53s 955ms/step - loss: 0.6490 - accuracy: 0.6112 - precision: 0.1264 - recall: 0.0072 - val_loss: 0.6041 - val_accuracy: 0.6689 - val_precision: 0.9583 - val_recall: 0.1516\n",
      "Epoch 3/30\n",
      "55/55 [==============================] - 53s 958ms/step - loss: 0.5184 - accuracy: 0.7585 - precision: 0.7114 - recall: 0.5200 - val_loss: 0.5015 - val_accuracy: 0.7806 - val_precision: 0.8027 - val_recall: 0.6022\n",
      "Epoch 4/30\n",
      "55/55 [==============================] - 53s 967ms/step - loss: 0.4771 - accuracy: 0.7903 - precision: 0.7795 - recall: 0.6057 - val_loss: 0.5071 - val_accuracy: 0.7699 - val_precision: 0.7326 - val_recall: 0.7535\n",
      "Epoch 5/30\n",
      "55/55 [==============================] - 52s 945ms/step - loss: 0.4215 - accuracy: 0.8169 - precision: 0.8282 - recall: 0.7129 - val_loss: 0.5236 - val_accuracy: 0.7672 - val_precision: 0.7171 - val_recall: 0.7943\n",
      "Epoch 6/30\n",
      "55/55 [==============================] - 51s 934ms/step - loss: 0.4237 - accuracy: 0.8209 - precision: 0.7783 - recall: 0.7472 - val_loss: 0.5426 - val_accuracy: 0.7510 - val_precision: 0.6873 - val_recall: 0.8321\n",
      "Epoch 7/30\n",
      "55/55 [==============================] - 51s 936ms/step - loss: 0.3885 - accuracy: 0.8273 - precision: 0.8119 - recall: 0.7395 - val_loss: 0.4619 - val_accuracy: 0.8008 - val_precision: 0.7853 - val_recall: 0.7594\n",
      "Epoch 8/30\n",
      "55/55 [==============================] - 51s 934ms/step - loss: 0.3576 - accuracy: 0.8475 - precision: 0.8321 - recall: 0.7746 - val_loss: 0.4662 - val_accuracy: 0.7954 - val_precision: 0.7346 - val_recall: 0.8487\n",
      "Epoch 9/30\n",
      "55/55 [==============================] - 51s 936ms/step - loss: 0.3639 - accuracy: 0.8486 - precision: 0.8294 - recall: 0.7818 - val_loss: 0.5152 - val_accuracy: 0.7712 - val_precision: 0.7139 - val_recall: 0.8542\n",
      "Epoch 10/30\n",
      "55/55 [==============================] - 51s 935ms/step - loss: 0.3301 - accuracy: 0.8642 - precision: 0.8549 - recall: 0.8006 - val_loss: 0.4439 - val_accuracy: 0.8264 - val_precision: 0.8230 - val_recall: 0.7812\n",
      "Epoch 11/30\n",
      "55/55 [==============================] - 52s 937ms/step - loss: 0.2960 - accuracy: 0.8856 - precision: 0.9048 - recall: 0.8189 - val_loss: 0.4411 - val_accuracy: 0.7995 - val_precision: 0.7421 - val_recall: 0.8299\n",
      "Epoch 12/30\n",
      "55/55 [==============================] - 52s 937ms/step - loss: 0.2605 - accuracy: 0.8977 - precision: 0.8926 - recall: 0.8208 - val_loss: 0.3985 - val_accuracy: 0.8452 - val_precision: 0.8398 - val_recall: 0.8221\n",
      "Epoch 13/30\n",
      "55/55 [==============================] - 52s 939ms/step - loss: 0.2327 - accuracy: 0.9087 - precision: 0.9158 - recall: 0.8607 - val_loss: 0.3656 - val_accuracy: 0.8506 - val_precision: 0.8217 - val_recall: 0.8434\n",
      "Epoch 14/30\n",
      "55/55 [==============================] - 52s 944ms/step - loss: 0.2136 - accuracy: 0.9145 - precision: 0.9106 - recall: 0.8734 - val_loss: 0.3543 - val_accuracy: 0.8466 - val_precision: 0.9172 - val_recall: 0.7316\n",
      "Epoch 15/30\n",
      "55/55 [==============================] - 52s 942ms/step - loss: 0.1875 - accuracy: 0.9261 - precision: 0.9373 - recall: 0.8482 - val_loss: 0.3717 - val_accuracy: 0.8277 - val_precision: 0.8222 - val_recall: 0.8205\n",
      "Epoch 16/30\n",
      "55/55 [==============================] - 52s 952ms/step - loss: 0.1735 - accuracy: 0.9324 - precision: 0.9385 - recall: 0.9098 - val_loss: 0.3946 - val_accuracy: 0.8291 - val_precision: 0.8629 - val_recall: 0.7806\n",
      "Epoch 17/30\n",
      "55/55 [==============================] - 52s 939ms/step - loss: 0.1537 - accuracy: 0.9422 - precision: 0.9686 - recall: 0.9295 - val_loss: 0.3398 - val_accuracy: 0.8573 - val_precision: 0.8615 - val_recall: 0.8085\n",
      "Epoch 18/30\n",
      "55/55 [==============================] - 52s 947ms/step - loss: 0.1085 - accuracy: 0.9624 - precision: 0.9685 - recall: 0.9299 - val_loss: 0.3643 - val_accuracy: 0.8600 - val_precision: 0.8478 - val_recall: 0.8614\n",
      "Epoch 19/30\n",
      "55/55 [==============================] - 52s 939ms/step - loss: 0.0839 - accuracy: 0.9728 - precision: 0.9779 - recall: 0.9654 - val_loss: 0.5064 - val_accuracy: 0.8022 - val_precision: 0.7473 - val_recall: 0.8923\n",
      "Epoch 20/30\n",
      "55/55 [==============================] - 52s 938ms/step - loss: 0.0902 - accuracy: 0.9676 - precision: 0.9523 - recall: 0.9432 - val_loss: 0.3567 - val_accuracy: 0.8721 - val_precision: 0.8480 - val_recall: 0.9114\n",
      "Epoch 21/30\n",
      "55/55 [==============================] - 52s 947ms/step - loss: 0.0714 - accuracy: 0.9757 - precision: 0.9798 - recall: 0.9588 - val_loss: 0.5250 - val_accuracy: 0.8116 - val_precision: 0.7610 - val_recall: 0.8802\n",
      "Epoch 22/30\n",
      "55/55 [==============================] - 52s 944ms/step - loss: 0.0763 - accuracy: 0.9717 - precision: 0.9708 - recall: 0.9552 - val_loss: 0.3395 - val_accuracy: 0.8708 - val_precision: 0.8978 - val_recall: 0.8120\n",
      "Epoch 23/30\n",
      "55/55 [==============================] - 52s 946ms/step - loss: 0.0575 - accuracy: 0.9838 - precision: 0.9919 - recall: 0.9648 - val_loss: 0.2933 - val_accuracy: 0.8977 - val_precision: 0.8955 - val_recall: 0.8965\n",
      "Epoch 24/30\n",
      "55/55 [==============================] - 53s 968ms/step - loss: 0.0501 - accuracy: 0.9804 - precision: 0.9887 - recall: 0.9671 - val_loss: 0.4083 - val_accuracy: 0.8641 - val_precision: 0.8244 - val_recall: 0.9271\n",
      "Epoch 25/30\n",
      "55/55 [==============================] - 52s 946ms/step - loss: 0.0452 - accuracy: 0.9827 - precision: 0.9886 - recall: 0.9784 - val_loss: 0.3021 - val_accuracy: 0.8991 - val_precision: 0.9386 - val_recall: 0.8391\n",
      "Epoch 26/30\n",
      "55/55 [==============================] - 52s 938ms/step - loss: 0.0765 - accuracy: 0.9700 - precision: 0.9645 - recall: 0.9387 - val_loss: 0.4373 - val_accuracy: 0.8506 - val_precision: 0.8502 - val_recall: 0.8288\n",
      "Epoch 27/30\n",
      "55/55 [==============================] - 52s 948ms/step - loss: 0.0518 - accuracy: 0.9815 - precision: 0.9851 - recall: 0.9754 - val_loss: 0.4005 - val_accuracy: 0.8546 - val_precision: 0.8178 - val_recall: 0.9198\n",
      "Epoch 28/30\n",
      "55/55 [==============================] - 53s 958ms/step - loss: 0.0326 - accuracy: 0.9902 - precision: 0.9842 - recall: 0.9850 - val_loss: 0.3450 - val_accuracy: 0.8883 - val_precision: 0.8855 - val_recall: 0.8508\n",
      "Epoch 29/30\n",
      "55/55 [==============================] - 52s 942ms/step - loss: 0.0381 - accuracy: 0.9832 - precision: 0.9894 - recall: 0.9856 - val_loss: 0.4900 - val_accuracy: 0.8493 - val_precision: 0.8461 - val_recall: 0.8726\n",
      "Epoch 30/30\n",
      "55/55 [==============================] - 53s 961ms/step - loss: 0.0351 - accuracy: 0.9867 - precision: 0.9879 - recall: 0.9758 - val_loss: 0.3567 - val_accuracy: 0.8896 - val_precision: 0.8756 - val_recall: 0.9100\n"
     ]
    }
   ],
   "source": [
    " trained_model = model.fit(X, Y_binary,\n",
    "          batch_size = 32,\n",
    "          epochs=30, validation_split = 0.3)\n"
   ]
  },
  {
   "cell_type": "code",
   "execution_count": 10,
   "id": "living-overall",
   "metadata": {},
   "outputs": [
    {
     "name": "stdout",
     "output_type": "stream",
     "text": [
      "hello\n"
     ]
    }
   ],
   "source": [
    "def prepare(filepath):\n",
    "    img_size = 150\n",
    "    img = cv2.imread(filepath, cv2.IMREAD_GRAYSCALE)/255  \n",
    "    cv2.imshow(\"Image\",img)\n",
    "    cv2.waitKey(0) # waits until a key is pressed\n",
    "    cv2.destroyAllWindows()\n",
    "    img_resize = cv2.resize(img, (img_size, img_size))  \n",
    "    return img_resize.reshape(-1, img_size, img_size, 1)\n",
    "print(\"hello\")"
   ]
  },
  {
   "cell_type": "code",
   "execution_count": 11,
   "id": "binary-durham",
   "metadata": {},
   "outputs": [
    {
     "name": "stdout",
     "output_type": "stream",
     "text": [
      "[[0.9489437  0.05105631]]\n",
      "Bacterial Spot\n"
     ]
    }
   ],
   "source": [
    "prediction = model.predict(prepare(\"C:\\\\Users\\\\admin\\\\Desktop\\\\testing\\\\77.jpg\"))\n",
    "print((prediction))\n",
    "\n",
    "\n",
    "CATEGORIES = [\"Bacterial Spot\", \"Healthy\"]\n",
    "\n",
    "pred_class = CATEGORIES[np.argmax(prediction)]\n",
    "print(pred_class)\n"
   ]
  },
  {
   "cell_type": "markdown",
   "id": "superb-input",
   "metadata": {},
   "source": [
    "tfjs.converters.save_keras_model(model, 'models')"
   ]
  },
  {
   "cell_type": "code",
   "execution_count": 12,
   "id": "alert-trace",
   "metadata": {},
   "outputs": [
    {
     "data": {
      "image/png": "[encoded data removed]",
      "text/plain": [
       "<Figure size 432x288 with 1 Axes>"
      ]
     },
     "metadata": {
      "needs_background": "light"
     },
     "output_type": "display_data"
    }
   ],
   "source": [
    "plt.plot(trained_model.history['accuracy'])\n",
    "plt.plot(trained_model.history['val_accuracy'])\n",
    "plt.title('model accuracy')\n",
    "plt.ylabel('accuracy')\n",
    "plt.xlabel('epoch')\n",
    "plt.legend(['train', 'test'], loc='upper left')\n",
    "plt.show()"
   ]
  },
  {
   "cell_type": "code",
   "execution_count": 13,
   "id": "perfect-warrior",
   "metadata": {},
   "outputs": [
    {
     "data": {
      "image/png": "[encoded data removed]",
      "text/plain": [
       "<Figure size 432x288 with 1 Axes>"
      ]
     },
     "metadata": {
      "needs_background": "light"
     },
     "output_type": "display_data"
    }
   ],
   "source": [
    "plt.plot(trained_model.history['loss'])\n",
    "plt.plot(trained_model.history['val_loss'])\n",
    "plt.title('loss')\n",
    "plt.ylabel('loss')\n",
    "plt.xlabel('epoch')\n",
    "plt.legend(['loss','val_loss'], loc='upper left')\n",
    "plt.show()"
   ]
  },
  {
   "cell_type": "code",
   "execution_count": 14,
   "id": "promising-earth",
   "metadata": {},
   "outputs": [
    {
     "name": "stdout",
     "output_type": "stream",
     "text": [
      "Model: \"sequential\"\n",
      "_________________________________________________________________\n",
      "Layer (type)                 Output Shape              Param #   \n",
      "=================================================================\n",
      "conv2d (Conv2D)              (None, 148, 148, 40)      400       \n",
      "_________________________________________________________________\n",
      "activation (Activation)      (None, 148, 148, 40)      0         \n",
      "_________________________________________________________________\n",
      "max_pooling2d (MaxPooling2D) (None, 74, 74, 40)        0         \n",
      "_________________________________________________________________\n",
      "dropout (Dropout)            (None, 74, 74, 40)        0         \n",
      "_________________________________________________________________\n",
      "conv2d_1 (Conv2D)            (None, 72, 72, 50)        18050     \n",
      "_________________________________________________________________\n",
      "activation_1 (Activation)    (None, 72, 72, 50)        0         \n",
      "_________________________________________________________________\n",
      "max_pooling2d_1 (MaxPooling2 (None, 36, 36, 50)        0         \n",
      "_________________________________________________________________\n",
      "dropout_1 (Dropout)          (None, 36, 36, 50)        0         \n",
      "_________________________________________________________________\n",
      "conv2d_2 (Conv2D)            (None, 34, 34, 60)        27060     \n",
      "_________________________________________________________________\n",
      "activation_2 (Activation)    (None, 34, 34, 60)        0         \n",
      "_________________________________________________________________\n",
      "max_pooling2d_2 (MaxPooling2 (None, 17, 17, 60)        0         \n",
      "_________________________________________________________________\n",
      "dropout_2 (Dropout)          (None, 17, 17, 60)        0         \n",
      "_________________________________________________________________\n",
      "flatten (Flatten)            (None, 17340)             0         \n",
      "_________________________________________________________________\n",
      "dense (Dense)                (None, 150)               2601150   \n",
      "_________________________________________________________________\n",
      "activation_3 (Activation)    (None, 150)               0         \n",
      "_________________________________________________________________\n",
      "dense_1 (Dense)              (None, 2)                 302       \n",
      "_________________________________________________________________\n",
      "activation_4 (Activation)    (None, 2)                 0         \n",
      "=================================================================\n",
      "Total params: 2,646,962\n",
      "Trainable params: 2,646,962\n",
      "Non-trainable params: 0\n",
      "_________________________________________________________________\n"
     ]
    }
   ],
   "source": [
    "model.summary()"
   ]
  },
  {
   "cell_type": "code",
   "execution_count": null,
   "id": "sufficient-version",
   "metadata": {},
   "outputs": [],
   "source": []
  },
  {
   "cell_type": "code",
   "execution_count": null,
   "id": "decimal-abuse",
   "metadata": {},
   "outputs": [],
   "source": []
  }
 ],
 "metadata": {
  "kernelspec": {
   "display_name": "Python 3",
   "language": "python",
   "name": "python3"
  },
  "language_info": {
   "codemirror_mode": {
    "name": "ipython",
    "version": 3
   },
   "file_extension": ".py",
   "mimetype": "text/x-python",
   "name": "python",
   "nbconvert_exporter": "python",
   "pygments_lexer": "ipython3",
   "version": "3.8.8"
  }
 },
 "nbformat": 4,
 "nbformat_minor": 5
}
