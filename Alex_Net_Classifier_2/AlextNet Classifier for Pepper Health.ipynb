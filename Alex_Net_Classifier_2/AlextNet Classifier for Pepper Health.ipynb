{
 "cells": [
  {
   "cell_type": "markdown",
   "metadata": {
    "colab_type": "text",
    "id": "3DR-eO17geWu"
   },
   "source": [
    "# Convolutional Neural Network"
   ]
  },
  {
   "cell_type": "code",
   "execution_count": 1,
   "metadata": {
    "colab": {},
    "colab_type": "code",
    "id": "sCV30xyVhFbE"
   },
   "outputs": [],
   "source": [
    "import tensorflow as tf\n",
    "from keras.preprocessing.image import ImageDataGenerator\n",
    "import matplotlib.pyplot as plt\n",
    "from tensorflow import keras"
   ]
  },
  {
   "cell_type": "code",
   "execution_count": 12,
   "metadata": {
    "colab": {},
    "colab_type": "code",
    "id": "0koUcJMJpEBD"
   },
   "outputs": [
    {
     "name": "stdout",
     "output_type": "stream",
     "text": [
      "Found 1978 images belonging to 2 classes.\n"
     ]
    }
   ],
   "source": [
    "train_datagen = ImageDataGenerator(rescale = 1./255,\n",
    "                                   shear_range = 0.2,\n",
    "                                   zoom_range = 0.2,\n",
    "                                   horizontal_flip = True)\n",
    "training_set = train_datagen.flow_from_directory('PlantVillage/Training',\n",
    "                                                 target_size = (227, 227),\n",
    "                                                 batch_size = 32,\n",
    "                                                 class_mode = 'binary')"
   ]
  },
  {
   "cell_type": "markdown",
   "metadata": {
    "colab_type": "text",
    "id": "mrCMmGw9pHys"
   },
   "source": [
    "### Preprocessing the Test set"
   ]
  },
  {
   "cell_type": "code",
   "execution_count": 13,
   "metadata": {
    "colab": {},
    "colab_type": "code",
    "id": "SH4WzfOhpKc3"
   },
   "outputs": [
    {
     "name": "stdout",
     "output_type": "stream",
     "text": [
      "Found 496 images belonging to 2 classes.\n"
     ]
    }
   ],
   "source": [
    "test_datagen = ImageDataGenerator(rescale = 1./255)\n",
    "test_set = test_datagen.flow_from_directory('PlantVillage/Testing',\n",
    "                                            target_size = (227, 227),\n",
    "                                            batch_size = 32,\n",
    "                                            class_mode = 'binary')\n",
    "\n"
   ]
  },
  {
   "cell_type": "code",
   "execution_count": 2,
   "metadata": {
    "colab": {},
    "colab_type": "code",
    "id": "SAUt4UMPlhLS"
   },
   "outputs": [],
   "source": [
    "model = keras.models.Sequential([\n",
    "    keras.layers.Conv2D(filters=96, kernel_size=(11,11), strides=(4,4), activation='relu', input_shape=(227,227,3)),\n",
    "    keras.layers.BatchNormalization(),\n",
    "    keras.layers.MaxPool2D(pool_size=(3,3), strides=(2,2)),\n",
    "    keras.layers.Conv2D(filters=256, kernel_size=(5,5), strides=(1,1), activation='relu', padding=\"same\"),\n",
    "    keras.layers.BatchNormalization(),\n",
    "    keras.layers.MaxPool2D(pool_size=(3,3), strides=(2,2)),\n",
    "    keras.layers.Conv2D(filters=384, kernel_size=(3,3), strides=(1,1), activation='relu', padding=\"same\"),\n",
    "    keras.layers.BatchNormalization(),\n",
    "    keras.layers.Conv2D(filters=384, kernel_size=(3,3), strides=(1,1), activation='relu', padding=\"same\"),\n",
    "    keras.layers.BatchNormalization(),\n",
    "    keras.layers.Conv2D(filters=256, kernel_size=(3,3), strides=(1,1), activation='relu', padding=\"same\"),\n",
    "    keras.layers.BatchNormalization(),\n",
    "    keras.layers.MaxPool2D(pool_size=(3,3), strides=(2,2)),\n",
    "    keras.layers.Flatten(),\n",
    "    keras.layers.Dense(4096, activation='relu'),\n",
    "    keras.layers.Dropout(0.5),\n",
    "    keras.layers.Dense(4096, activation='relu'),\n",
    "    keras.layers.Dropout(0.5),\n",
    "    keras.layers.Dense(1, activation='sigmoid')\n",
    "])"
   ]
  },
  {
   "cell_type": "code",
   "execution_count": 15,
   "metadata": {
    "colab": {},
    "colab_type": "code",
    "id": "NALksrNQpUlJ"
   },
   "outputs": [],
   "source": [
    "model.compile(optimizer = 'adam', loss = 'binary_crossentropy', metrics = ['accuracy'])"
   ]
  },
  {
   "cell_type": "code",
   "execution_count": 16,
   "metadata": {
    "colab": {},
    "colab_type": "code",
    "id": "XUj1W4PJptta"
   },
   "outputs": [
    {
     "name": "stdout",
     "output_type": "stream",
     "text": [
      "Epoch 1/16\n",
      "62/62 [==============================] - 282s 5s/step - loss: 14.7460 - accuracy: 0.6630 - val_loss: 39.1198 - val_accuracy: 0.5968\n",
      "Epoch 2/16\n",
      "62/62 [==============================] - 284s 5s/step - loss: 0.5235 - accuracy: 0.8878 - val_loss: 3.1646 - val_accuracy: 0.6835\n",
      "Epoch 3/16\n",
      "62/62 [==============================] - 290s 5s/step - loss: 0.3237 - accuracy: 0.9152 - val_loss: 4.2302 - val_accuracy: 0.6371\n",
      "Epoch 4/16\n",
      "62/62 [==============================] - 284s 5s/step - loss: 0.2999 - accuracy: 0.9181 - val_loss: 0.3954 - val_accuracy: 0.8770\n",
      "Epoch 5/16\n",
      "62/62 [==============================] - 291s 5s/step - loss: 0.2571 - accuracy: 0.9115 - val_loss: 0.3913 - val_accuracy: 0.9073\n",
      "Epoch 6/16\n",
      "62/62 [==============================] - 293s 5s/step - loss: 0.1934 - accuracy: 0.9482 - val_loss: 0.0916 - val_accuracy: 0.9698\n",
      "Epoch 7/16\n",
      "62/62 [==============================] - 295s 5s/step - loss: 0.1500 - accuracy: 0.9516 - val_loss: 0.5010 - val_accuracy: 0.9093\n",
      "Epoch 8/16\n",
      "62/62 [==============================] - 294s 5s/step - loss: 0.2037 - accuracy: 0.9361 - val_loss: 0.8358 - val_accuracy: 0.7056\n",
      "Epoch 9/16\n",
      "62/62 [==============================] - 294s 5s/step - loss: 0.0815 - accuracy: 0.9736 - val_loss: 0.9444 - val_accuracy: 0.9012\n",
      "Epoch 10/16\n",
      "62/62 [==============================] - 295s 5s/step - loss: 0.1405 - accuracy: 0.9549 - val_loss: 1.1588 - val_accuracy: 0.9093\n",
      "Epoch 11/16\n",
      "62/62 [==============================] - 295s 5s/step - loss: 0.0813 - accuracy: 0.9764 - val_loss: 0.3902 - val_accuracy: 0.9335\n",
      "Epoch 12/16\n",
      "62/62 [==============================] - 296s 5s/step - loss: 0.0975 - accuracy: 0.9734 - val_loss: 0.1225 - val_accuracy: 0.9899\n",
      "Epoch 13/16\n",
      "62/62 [==============================] - 296s 5s/step - loss: 0.0688 - accuracy: 0.9821 - val_loss: 2.9137 - val_accuracy: 0.7177\n",
      "Epoch 14/16\n",
      "62/62 [==============================] - 298s 5s/step - loss: 0.1331 - accuracy: 0.9787 - val_loss: 0.3256 - val_accuracy: 0.9234\n",
      "Epoch 15/16\n",
      "62/62 [==============================] - 297s 5s/step - loss: 0.2081 - accuracy: 0.9677 - val_loss: 9.5541 - val_accuracy: 0.7278\n",
      "Epoch 16/16\n",
      "62/62 [==============================] - 297s 5s/step - loss: 0.1219 - accuracy: 0.9592 - val_loss: 2.9940 - val_accuracy: 0.8548\n"
     ]
    }
   ],
   "source": [
    "model = model.fit(x = training_set, validation_data = test_set, epochs = 16)"
   ]
  },
  {
   "cell_type": "markdown",
   "metadata": {},
   "source": [
    "## We are doing the below plotting steps manually because we was unable to get history from our model after training.It can be fixed but shortage of time for submission "
   ]
  },
  {
   "cell_type": "code",
   "execution_count": 26,
   "metadata": {},
   "outputs": [],
   "source": [
    "loss = [14.746,0.5235,0.3237,0.2999,0.2571,0.1934,0.1500,0.2037,0.0815,0.1405,0.0813,0.0975,.0688,0.1331,0.2081,0.1219]\n",
    "accuracy = [0.663,0.89,0.92,0.924,0.9115,0.9482,0.9516,0.9361,0.9736,0.9549,0.9764,0.9734,0.9821,0.9787,0.9677,0.9592]\n",
    "val_accuracy = [0.5968,0.6835,0.6371,0.8770,0.9073,0.9698,0.9093,0.7056,0.9012,0.9093,0.9335,0.9899,0.7177,0.9234,0.7278,0.8548]\n",
    "val_loss = [39.1198,3.16465,4.2302,0.3954,0.3913,0.0916,0.5010,0.8358,0.9444,1.1588,0.3902,0.1225,2.9137,0.3256,9.5541,2.9940]\n",
    "epocs = [1,2,3,4,5,6,7,8,9,10,11,12,13,14,15,16]"
   ]
  },
  {
   "cell_type": "code",
   "execution_count": 21,
   "metadata": {},
   "outputs": [],
   "source": [
    "from matplotlib import pyplot as plt"
   ]
  },
  {
   "cell_type": "code",
   "execution_count": 24,
   "metadata": {},
   "outputs": [
    {
     "data": {
      "image/png": "[encoded data removed]",
      "text/plain": [
       "<Figure size 432x288 with 1 Axes>"
      ]
     },
     "metadata": {
      "needs_background": "light"
     },
     "output_type": "display_data"
    }
   ],
   "source": [
    "# summarize history for accuracy\n",
    "plt.plot(epocs,val_accuracy)\n",
    "plt.plot(epocs,accuracy)\n",
    "plt.title('model accuracy')\n",
    "plt.ylabel('accuracy')\n",
    "plt.xlabel('epoch')\n",
    "plt.legend(['train', 'test'], loc='upper left')\n",
    "plt.show()"
   ]
  },
  {
   "cell_type": "code",
   "execution_count": 25,
   "metadata": {},
   "outputs": [
    {
     "data": {
      "image/png": "[encoded data removed]",
      "text/plain": [
       "<Figure size 432x288 with 1 Axes>"
      ]
     },
     "metadata": {
      "needs_background": "light"
     },
     "output_type": "display_data"
    }
   ],
   "source": [
    "plt.plot(epocs,loss)\n",
    "plt.plot(epocs,val_loss)\n",
    "plt.title('loss')\n",
    "plt.ylabel('loss')\n",
    "plt.xlabel('epoch')\n",
    "plt.legend(['loss','val_loss'], loc='upper left')\n",
    "plt.show()"
   ]
  },
  {
   "cell_type": "code",
   "execution_count": null,
   "metadata": {},
   "outputs": [],
   "source": []
  },
  {
   "cell_type": "code",
   "execution_count": null,
   "metadata": {},
   "outputs": [],
   "source": []
  }
 ],
 "metadata": {
  "colab": {
   "collapsed_sections": [],
   "name": "convolutional_neural_network.ipynb",
   "provenance": [],
   "toc_visible": true
  },
  "kernelspec": {
   "display_name": "Python 3",
   "language": "python",
   "name": "python3"
  },
  "language_info": {
   "codemirror_mode": {
    "name": "ipython",
    "version": 3
   },
   "file_extension": ".py",
   "mimetype": "text/x-python",
   "name": "python",
   "nbconvert_exporter": "python",
   "pygments_lexer": "ipython3",
   "version": "3.7.4"
  }
 },
 "nbformat": 4,
 "nbformat_minor": 4
}
